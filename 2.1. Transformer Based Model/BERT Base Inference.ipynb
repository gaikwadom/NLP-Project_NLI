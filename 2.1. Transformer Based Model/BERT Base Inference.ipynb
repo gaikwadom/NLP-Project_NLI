{
 "cells": [
  {
   "cell_type": "code",
   "execution_count": 1,
   "id": "07175999-f594-456f-96a3-0268dccd96e7",
   "metadata": {},
   "outputs": [],
   "source": [
    "from transformers import AutoTokenizer, AutoModelForSequenceClassification\n",
    "import torch\n",
    "\n",
    "import warnings\n",
    "warnings.filterwarnings('ignore', category = FutureWarning)"
   ]
  },
  {
   "cell_type": "code",
   "execution_count": 2,
   "id": "240a9412-35df-42bc-af15-29cbbaa5150d",
   "metadata": {},
   "outputs": [],
   "source": [
    "model_path = './results/checkpoint-25000'"
   ]
  },
  {
   "cell_type": "code",
   "execution_count": 3,
   "id": "ab127211-7d48-4fce-8c47-44a920c9c182",
   "metadata": {},
   "outputs": [],
   "source": [
    "tokenizer = AutoTokenizer.from_pretrained(model_path)\n",
    "model = AutoModelForSequenceClassification.from_pretrained(model_path)"
   ]
  },
  {
   "cell_type": "code",
   "execution_count": 4,
   "id": "f00f5335-9b5f-4089-93b9-07f5c905ef4c",
   "metadata": {},
   "outputs": [],
   "source": [
    "def predict(premise, hypothesis):\n",
    "    \n",
    "    inputs = tokenizer(premise, hypothesis, return_tensors = 'pt', truncation = True, padding = True)\n",
    "\n",
    "    with torch.no_grad():\n",
    "        \n",
    "        outputs = model(**inputs)\n",
    "        logits = outputs.logits\n",
    "        predicted_class = torch.argmax(logits, dim = 1).item()\n",
    "\n",
    "    label_map = {0: 'entailment', 1: 'neutral', 2: 'contradiction'}\n",
    "\n",
    "    return label_map[predicted_class]"
   ]
  },
  {
   "cell_type": "code",
   "execution_count": 5,
   "id": "72a44ab6-b6d3-422e-8532-282beeccedb5",
   "metadata": {},
   "outputs": [
    {
     "name": "stdin",
     "output_type": "stream",
     "text": [
      "\n",
      "Premise (or type 'exit' to quit):  The woman is drinking coffee at the cafe.\n",
      "Hypothesis :  The woman is consuming a beverage.\n"
     ]
    },
    {
     "name": "stdout",
     "output_type": "stream",
     "text": [
      "Prediction : entailment\n"
     ]
    },
    {
     "name": "stdin",
     "output_type": "stream",
     "text": [
      "\n",
      "Premise (or type 'exit' to quit):  The boy is playing soccer outside.\n",
      "Hypothesis :  The boy is sitting quietly indoors.\n"
     ]
    },
    {
     "name": "stdout",
     "output_type": "stream",
     "text": [
      "Prediction : contradiction\n"
     ]
    },
    {
     "name": "stdin",
     "output_type": "stream",
     "text": [
      "\n",
      "Premise (or type 'exit' to quit):  A woman is painting a portrait.\n",
      "Hypothesis :  The portrait was painted by an artist.\n"
     ]
    },
    {
     "name": "stdout",
     "output_type": "stream",
     "text": [
      "Prediction : entailment\n"
     ]
    },
    {
     "name": "stdin",
     "output_type": "stream",
     "text": [
      "\n",
      "Premise (or type 'exit' to quit):  A man is jogging in the park.\n",
      "Hypothesis :  The man listens to music on his headphones.\n"
     ]
    },
    {
     "name": "stdout",
     "output_type": "stream",
     "text": [
      "Prediction : neutral\n"
     ]
    },
    {
     "name": "stdin",
     "output_type": "stream",
     "text": [
      "\n",
      "Premise (or type 'exit' to quit):  exit\n"
     ]
    }
   ],
   "source": [
    "while True:\n",
    "    premise = input(\"\\nPremise (or type 'exit' to quit): \")\n",
    "    if premise.lower() == 'exit':\n",
    "        break\n",
    "    hypothesis = input('Hypothesis : ')\n",
    "    result = predict(premise, hypothesis)\n",
    "    print('Prediction :', result)"
   ]
  }
 ],
 "metadata": {
  "kernelspec": {
   "display_name": "Python 3 (ipykernel)",
   "language": "python",
   "name": "python3"
  },
  "language_info": {
   "codemirror_mode": {
    "name": "ipython",
    "version": 3
   },
   "file_extension": ".py",
   "mimetype": "text/x-python",
   "name": "python",
   "nbconvert_exporter": "python",
   "pygments_lexer": "ipython3",
   "version": "3.11.7"
  }
 },
 "nbformat": 4,
 "nbformat_minor": 5
}
