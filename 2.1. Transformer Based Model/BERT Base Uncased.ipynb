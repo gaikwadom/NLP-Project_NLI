{
 "cells": [
  {
   "cell_type": "code",
   "execution_count": 1,
   "id": "104dcb91-8d4f-4307-97f0-097e8d50bf4d",
   "metadata": {},
   "outputs": [],
   "source": [
    "import numpy as np\n",
    "import torch\n",
    "from transformers import AutoTokenizer, AutoModelForSequenceClassification, TrainingArguments, Trainer\n",
    "\n",
    "import evaluate\n",
    "from datasets import load_dataset\n",
    "\n",
    "from tqdm.notebook import tqdm"
   ]
  },
  {
   "cell_type": "code",
   "execution_count": 2,
   "id": "ef1a6897-01a9-4411-8f04-1ea2a088a11d",
   "metadata": {},
   "outputs": [],
   "source": [
    "import warnings\n",
    "warnings.filterwarnings('ignore', category = FutureWarning)"
   ]
  },
  {
   "cell_type": "code",
   "execution_count": 3,
   "id": "48203e03-c135-4a35-b160-cb9872335f28",
   "metadata": {},
   "outputs": [
    {
     "name": "stderr",
     "output_type": "stream",
     "text": [
      "Some weights of BertForSequenceClassification were not initialized from the model checkpoint at bert-base-uncased and are newly initialized: ['classifier.bias', 'classifier.weight']\n",
      "You should probably TRAIN this model on a down-stream task to be able to use it for predictions and inference.\n"
     ]
    }
   ],
   "source": [
    "tokenizer = AutoTokenizer.from_pretrained('bert-base-uncased')\n",
    "model = AutoModelForSequenceClassification.from_pretrained('bert-base-uncased', num_labels = 3)"
   ]
  },
  {
   "cell_type": "code",
   "execution_count": 4,
   "id": "01c6b8df-3d14-4f59-a913-4359686c2be8",
   "metadata": {},
   "outputs": [],
   "source": [
    "dataset = load_dataset('multi_nli')"
   ]
  },
  {
   "cell_type": "code",
   "execution_count": 5,
   "id": "034a504b-e32a-46e3-ad53-cbbd8277381a",
   "metadata": {},
   "outputs": [],
   "source": [
    "def filter_labels(example):\n",
    "    return example['label'] != -1\n",
    "\n",
    "dataset['validation_matched'] = dataset['validation_matched'].filter(filter_labels)"
   ]
  },
  {
   "cell_type": "code",
   "execution_count": 6,
   "id": "06107a15-28b7-4526-92b1-76930388e29d",
   "metadata": {},
   "outputs": [],
   "source": [
    "max_length = 128\n",
    "def tokenize_fn(example):\n",
    "    \n",
    "    enc = tokenizer(\n",
    "        example['premise'],\n",
    "        example['hypothesis'],\n",
    "        padding  ='max_length',\n",
    "        truncation = True,\n",
    "        max_length = max_length\n",
    "    )\n",
    "    \n",
    "    return {\n",
    "        'input_ids' : enc['input_ids'],\n",
    "        'attention_mask' : enc['attention_mask'],\n",
    "        'label' : example['label']\n",
    "    }"
   ]
  },
  {
   "cell_type": "code",
   "execution_count": 7,
   "id": "38e91ba6-e570-43c4-b642-fe2ac66dca68",
   "metadata": {},
   "outputs": [
    {
     "data": {
      "application/vnd.jupyter.widget-view+json": {
       "model_id": "54c5cf9e3ed34b77a4daff4ddc89a5f7",
       "version_major": 2,
       "version_minor": 0
      },
      "text/plain": [
       "Map:   0%|          | 0/9815 [00:00<?, ? examples/s]"
      ]
     },
     "metadata": {},
     "output_type": "display_data"
    }
   ],
   "source": [
    "dataset = dataset.map(tokenize_fn, batched = True, batch_size = 2000)\n",
    "dataset.set_format(type = 'torch', columns = ['input_ids', 'attention_mask', 'label'])"
   ]
  },
  {
   "cell_type": "code",
   "execution_count": 8,
   "id": "124f5649-7161-41d5-af81-a8ad3ca1be46",
   "metadata": {},
   "outputs": [],
   "source": [
    "train_data = dataset['train'].shuffle(seed = 42).select(range(100000))\n",
    "val_data = dataset['validation_matched']"
   ]
  },
  {
   "cell_type": "code",
   "execution_count": 9,
   "id": "59b2a4a9-5094-4080-a650-9a23413981e8",
   "metadata": {},
   "outputs": [],
   "source": [
    "accuracy = evaluate.load('accuracy')\n",
    "f1 = evaluate.load('f1')"
   ]
  },
  {
   "cell_type": "code",
   "execution_count": 10,
   "id": "64d1e115-91c5-4731-877a-014d5cbd5c05",
   "metadata": {},
   "outputs": [],
   "source": [
    "def compute_metrics(eval_pred):\n",
    "    \n",
    "    logits, labels = eval_pred\n",
    "    predictions = np.argmax(logits, axis = -1)\n",
    "    \n",
    "    acc_result = accuracy.compute(predictions = predictions, references = labels)\n",
    "    f1_result = f1.compute(predictions = predictions, references = labels, average = 'weighted')\n",
    "\n",
    "    return {**acc_result, **f1_result}"
   ]
  },
  {
   "cell_type": "code",
   "execution_count": 11,
   "id": "d0901fda-1e0f-4872-b58b-6bd39bbaa4f2",
   "metadata": {},
   "outputs": [],
   "source": [
    "training_args = TrainingArguments(\n",
    "    output_dir = './results',\n",
    "    eval_strategy = 'epoch',\n",
    "    save_strategy = 'epoch',\n",
    "    num_train_epochs = 2,\n",
    "    per_device_train_batch_size = 8,\n",
    "    per_device_eval_batch_size = 8,\n",
    "    learning_rate = 0.00001,\n",
    "    weight_decay = 0.08,\n",
    "    warmup_ratio = 0.2,\n",
    "    logging_dir = './logs',\n",
    "    logging_strategy = 'steps',\n",
    "    logging_steps = 20,\n",
    "    report_to = 'none',\n",
    "    load_best_model_at_end = True,\n",
    "    metric_for_best_model = 'accuracy',\n",
    "    save_total_limit = 1,\n",
    "    fp16 = True\n",
    ")"
   ]
  },
  {
   "cell_type": "code",
   "execution_count": 12,
   "id": "a567a6e7-8354-4344-95d2-1b61f2dbd5fc",
   "metadata": {},
   "outputs": [],
   "source": [
    "trainer = Trainer(\n",
    "    model = model,\n",
    "    args = training_args,\n",
    "    train_dataset = train_data,\n",
    "    eval_dataset = val_data,\n",
    "    compute_metrics = compute_metrics,\n",
    "    processing_class = tokenizer\n",
    ")"
   ]
  },
  {
   "cell_type": "code",
   "execution_count": 13,
   "id": "e7b7d94c-3ecf-4e8b-bccd-24944fac34ba",
   "metadata": {},
   "outputs": [
    {
     "data": {
      "text/html": [
       "\n",
       "    <div>\n",
       "      \n",
       "      <progress value='25000' max='25000' style='width:300px; height:20px; vertical-align: middle;'></progress>\n",
       "      [25000/25000 40:15, Epoch 2/2]\n",
       "    </div>\n",
       "    <table border=\"1\" class=\"dataframe\">\n",
       "  <thead>\n",
       " <tr style=\"text-align: left;\">\n",
       "      <th>Epoch</th>\n",
       "      <th>Training Loss</th>\n",
       "      <th>Validation Loss</th>\n",
       "      <th>Accuracy</th>\n",
       "      <th>F1</th>\n",
       "    </tr>\n",
       "  </thead>\n",
       "  <tbody>\n",
       "    <tr>\n",
       "      <td>1</td>\n",
       "      <td>0.697200</td>\n",
       "      <td>0.555298</td>\n",
       "      <td>0.777585</td>\n",
       "      <td>0.777764</td>\n",
       "    </tr>\n",
       "    <tr>\n",
       "      <td>2</td>\n",
       "      <td>0.417300</td>\n",
       "      <td>0.552073</td>\n",
       "      <td>0.803260</td>\n",
       "      <td>0.803676</td>\n",
       "    </tr>\n",
       "  </tbody>\n",
       "</table><p>"
      ],
      "text/plain": [
       "<IPython.core.display.HTML object>"
      ]
     },
     "metadata": {},
     "output_type": "display_data"
    },
    {
     "data": {
      "text/html": [
       "\n",
       "    <div>\n",
       "      \n",
       "      <progress value='1227' max='1227' style='width:300px; height:20px; vertical-align: middle;'></progress>\n",
       "      [1227/1227 00:24]\n",
       "    </div>\n",
       "    "
      ],
      "text/plain": [
       "<IPython.core.display.HTML object>"
      ]
     },
     "metadata": {},
     "output_type": "display_data"
    },
    {
     "name": "stdout",
     "output_type": "stream",
     "text": [
      "Final Evaluation : \n",
      "\n",
      "Eval Loss: 0.5521 | Eval Accuracy: 0.8033 | Eval F1 Score: 0.8037\n"
     ]
    }
   ],
   "source": [
    "trainer.train()\n",
    "\n",
    "final_eval = trainer.evaluate()\n",
    "print('Final Evaluation : \\n')\n",
    "print(f\"Eval Loss: {final_eval['eval_loss']:.4f} | Eval Accuracy: {final_eval['eval_accuracy']:.4f} | Eval F1 Score: {final_eval['eval_f1']:.4f}\")"
   ]
  }
 ],
 "metadata": {
  "kernelspec": {
   "display_name": "Python 3 (ipykernel)",
   "language": "python",
   "name": "python3"
  },
  "language_info": {
   "codemirror_mode": {
    "name": "ipython",
    "version": 3
   },
   "file_extension": ".py",
   "mimetype": "text/x-python",
   "name": "python",
   "nbconvert_exporter": "python",
   "pygments_lexer": "ipython3",
   "version": "3.11.7"
  }
 },
 "nbformat": 4,
 "nbformat_minor": 5
}
