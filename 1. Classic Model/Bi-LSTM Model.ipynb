{
 "cells": [
  {
   "cell_type": "code",
   "execution_count": 2,
   "id": "a15ab705-af51-4a3a-acbb-701441eb5759",
   "metadata": {},
   "outputs": [],
   "source": [
    "import numpy as np\n",
    "\n",
    "import torch\n",
    "import torch.nn as nn\n",
    "from transformers import AutoTokenizer\n",
    "\n",
    "from torch.utils.data import DataLoader\n",
    "from datasets import load_dataset\n",
    "\n",
    "from sklearn.metrics import accuracy_score, f1_score\n",
    "\n",
    "from tqdm.notebook import tqdm\n",
    "import random"
   ]
  },
  {
   "cell_type": "code",
   "execution_count": 3,
   "id": "ee4e01d3-7158-4094-9ff5-f1922f782f4e",
   "metadata": {},
   "outputs": [],
   "source": [
    "seed = 42\n",
    "torch.manual_seed(seed)\n",
    "np.random.seed(seed)\n",
    "random.seed(seed)"
   ]
  },
  {
   "cell_type": "code",
   "execution_count": 4,
   "id": "02b0c6ab-6b64-4b6f-abf5-835cf524bed0",
   "metadata": {},
   "outputs": [
    {
     "data": {
      "text/plain": [
       "device(type='cuda')"
      ]
     },
     "execution_count": 4,
     "metadata": {},
     "output_type": "execute_result"
    }
   ],
   "source": [
    "device = torch.device('cuda' if torch.cuda.is_available() else 'cpu')\n",
    "device"
   ]
  },
  {
   "cell_type": "code",
   "execution_count": 5,
   "id": "77184006-c377-45fa-8c5c-4f238f1656c5",
   "metadata": {},
   "outputs": [
    {
     "name": "stdout",
     "output_type": "stream",
     "text": [
      "Tue Jul 29 20:29:19 2025       \n",
      "+-----------------------------------------------------------------------------------------+\n",
      "| NVIDIA-SMI 576.80                 Driver Version: 576.80         CUDA Version: 12.9     |\n",
      "|-----------------------------------------+------------------------+----------------------+\n",
      "| GPU  Name                  Driver-Model | Bus-Id          Disp.A | Volatile Uncorr. ECC |\n",
      "| Fan  Temp   Perf          Pwr:Usage/Cap |           Memory-Usage | GPU-Util  Compute M. |\n",
      "|                                         |                        |               MIG M. |\n",
      "|=========================================+========================+======================|\n",
      "|   0  NVIDIA GeForce RTX 3060 ...  WDDM  |   00000000:01:00.0 Off |                  N/A |\n",
      "| N/A   52C    P8             16W /   95W |    4372MiB /   6144MiB |      0%      Default |\n",
      "|                                         |                        |                  N/A |\n",
      "+-----------------------------------------+------------------------+----------------------+\n",
      "                                                                                         \n",
      "+-----------------------------------------------------------------------------------------+\n",
      "| Processes:                                                                              |\n",
      "|  GPU   GI   CI              PID   Type   Process name                        GPU Memory |\n",
      "|        ID   ID                                                               Usage      |\n",
      "|=========================================================================================|\n",
      "|    0   N/A  N/A            9016      C   ...am Files\\Python311\\python.exe      N/A      |\n",
      "+-----------------------------------------------------------------------------------------+\n"
     ]
    }
   ],
   "source": [
    "!nvidia-smi"
   ]
  },
  {
   "cell_type": "code",
   "execution_count": 6,
   "id": "e45780e4-2ce8-4a8a-b389-4eccf3a364e0",
   "metadata": {},
   "outputs": [],
   "source": [
    "max_length = 256\n",
    "batch_size = 64\n",
    "embed_dim = 300\n",
    "hidden_dim = 512\n",
    "num_classes = 3\n",
    "epochs = 5\n",
    "lr = 0.0002"
   ]
  },
  {
   "cell_type": "code",
   "execution_count": 7,
   "id": "2444d29f-7847-422d-9ea9-3dd81d6529d5",
   "metadata": {},
   "outputs": [],
   "source": [
    "tokenizer = AutoTokenizer.from_pretrained('bert-base-uncased')"
   ]
  },
  {
   "cell_type": "code",
   "execution_count": 8,
   "id": "09f7e556-f669-461b-8243-5ea57720fb8a",
   "metadata": {},
   "outputs": [],
   "source": [
    "dataset = load_dataset('multi_nli')"
   ]
  },
  {
   "cell_type": "code",
   "execution_count": 9,
   "id": "c90fc171-9589-4d41-9c35-6f0caf33f396",
   "metadata": {},
   "outputs": [],
   "source": [
    "def filter_labels(example):\n",
    "    return example['label'] != -1\n",
    "\n",
    "dataset['validation_matched'] = dataset['validation_matched'].filter(filter_labels)"
   ]
  },
  {
   "cell_type": "code",
   "execution_count": 10,
   "id": "ce12fc55-be6b-49ce-a6be-4af51a333bb8",
   "metadata": {},
   "outputs": [],
   "source": [
    "def tokenize_fn(example):\n",
    "    \n",
    "    enc = tokenizer(\n",
    "        example['premise'],\n",
    "        example['hypothesis'],\n",
    "        padding = 'max_length',\n",
    "        truncation = True,\n",
    "        max_length = max_length\n",
    "    )\n",
    "    return {\n",
    "        'input_ids' : enc['input_ids'],\n",
    "        'label' : example['label']\n",
    "    }"
   ]
  },
  {
   "cell_type": "code",
   "execution_count": 11,
   "id": "70f2eb8d-9758-4dc3-a1c1-afbbafcd2246",
   "metadata": {},
   "outputs": [],
   "source": [
    "dataset = dataset.map(tokenize_fn, batched = False)\n",
    "dataset.set_format(type = 'torch', columns = ['input_ids', 'label'])"
   ]
  },
  {
   "cell_type": "code",
   "execution_count": 12,
   "id": "fa19a5a6-f3ed-47a4-ab0b-aa391e9a7526",
   "metadata": {},
   "outputs": [],
   "source": [
    "train_loader = DataLoader(dataset['train'], batch_size = batch_size, shuffle = True)\n",
    "val_loader = DataLoader(dataset['validation_matched'], batch_size = batch_size)"
   ]
  },
  {
   "cell_type": "code",
   "execution_count": 13,
   "id": "a5d949f6-77fb-447a-b1b9-220c08e75984",
   "metadata": {},
   "outputs": [],
   "source": [
    "class LSTM(nn.Module):\n",
    "    def __init__(self, vocab_size, embed_dim, hidden_dim, output_dim):\n",
    "        \n",
    "        super().__init__()\n",
    "        self.embedding = nn.Embedding(vocab_size, embed_dim)\n",
    "        self.lstm = nn.LSTM(embed_dim, hidden_dim, batch_first = True, bidirectional = True)\n",
    "        self.fc = nn.Linear(hidden_dim * 2, output_dim)\n",
    "        self.dropout = nn.Dropout(0.2)\n",
    "\n",
    "    def forward(self, x):\n",
    "        \n",
    "        x = self.embedding(x)\n",
    "        lstm_out, (h_n, c_n) = self.lstm(x)\n",
    "        h_final = torch.cat((h_n[0], h_n[1]), dim = 1)\n",
    "        x = self.dropout(h_final)\n",
    "        \n",
    "        return self.fc(x)"
   ]
  },
  {
   "cell_type": "code",
   "execution_count": 14,
   "id": "56f69f5c-ddd1-496f-b957-e8f6215f3135",
   "metadata": {},
   "outputs": [],
   "source": [
    "model = LSTM(\n",
    "    vocab_size = tokenizer.vocab_size,\n",
    "    embed_dim = embed_dim,\n",
    "    hidden_dim = hidden_dim,\n",
    "    output_dim = num_classes\n",
    ").to(device)"
   ]
  },
  {
   "cell_type": "code",
   "execution_count": 16,
   "id": "732e7f1e-8d18-4936-a647-c9ce627552d4",
   "metadata": {},
   "outputs": [
    {
     "data": {
      "text/plain": [
       "LSTM(\n",
       "  (embedding): Embedding(30522, 300)\n",
       "  (lstm): LSTM(300, 512, batch_first=True, bidirectional=True)\n",
       "  (fc): Linear(in_features=1024, out_features=3, bias=True)\n",
       "  (dropout): Dropout(p=0.2, inplace=False)\n",
       ")"
      ]
     },
     "execution_count": 16,
     "metadata": {},
     "output_type": "execute_result"
    }
   ],
   "source": [
    "model"
   ]
  },
  {
   "cell_type": "code",
   "execution_count": 17,
   "id": "c4348256-69f1-4f44-8820-26469e050663",
   "metadata": {},
   "outputs": [],
   "source": [
    "optimizer = torch.optim.Adam(model.parameters(), lr = lr)\n",
    "criterion = nn.CrossEntropyLoss()"
   ]
  },
  {
   "cell_type": "code",
   "execution_count": 18,
   "id": "6dba7708-9689-4408-be6a-f85f4317ff09",
   "metadata": {},
   "outputs": [],
   "source": [
    "def train(model, train_loader, optimizer, criterion, device):\n",
    "    \n",
    "    model.train()\n",
    "    total_loss = 0\n",
    "    \n",
    "    for batch in train_loader:\n",
    "        input_ids = batch['input_ids'].to(device)\n",
    "        labels = batch['label'].to(device)\n",
    "\n",
    "        optimizer.zero_grad()\n",
    "        outputs = model(input_ids)\n",
    "        loss = criterion(outputs, labels)\n",
    "        loss.backward()\n",
    "        optimizer.step()\n",
    "        total_loss += loss.item()\n",
    "\n",
    "    return total_loss / len(train_loader)"
   ]
  },
  {
   "cell_type": "code",
   "execution_count": 19,
   "id": "6fac4f4f-69c3-4a05-843d-9587d5628bd6",
   "metadata": {},
   "outputs": [],
   "source": [
    "def evaluate(model, val_loader, device):\n",
    "    \n",
    "    model.eval()\n",
    "    preds, true = [], []\n",
    "    \n",
    "    with torch.no_grad():\n",
    "        for batch in val_loader:\n",
    "            \n",
    "            input_ids = batch['input_ids'].to(device)\n",
    "            labels = batch['label'].to(device)\n",
    "            outputs = model(input_ids)\n",
    "            predictions = torch.argmax(outputs, dim = 1)\n",
    "            preds.extend(predictions.cpu().numpy())\n",
    "            true.extend(labels.cpu().numpy())\n",
    "\n",
    "    acc = accuracy_score(true, preds)\n",
    "    f1_weighted = f1_score(true, preds, average = 'weighted')\n",
    "    f1_macro = f1_score(true, preds, average = 'macro')\n",
    "    \n",
    "    return acc, f1_weighted, f1_macro"
   ]
  },
  {
   "cell_type": "code",
   "execution_count": 21,
   "id": "5e0f767e-8390-469c-853f-c60abe425c5a",
   "metadata": {},
   "outputs": [
    {
     "name": "stdout",
     "output_type": "stream",
     "text": [
      "Epoch 1 - Train Loss: 0.8981 | Val Accuracy: 0.5884 | Weighted F1: 0.5857 | Macro F1: 0.5841\n",
      "Epoch 2 - Train Loss: 0.8451 | Val Accuracy: 0.6003 | Weighted F1: 0.6007 | Macro F1: 0.5996\n",
      "Epoch 3 - Train Loss: 0.7941 | Val Accuracy: 0.6137 | Weighted F1: 0.6118 | Macro F1: 0.6105\n",
      "Epoch 4 - Train Loss: 0.7382 | Val Accuracy: 0.6167 | Weighted F1: 0.6151 | Macro F1: 0.6139\n",
      "Epoch 5 - Train Loss: 0.6742 | Val Accuracy: 0.6103 | Weighted F1: 0.6091 | Macro F1: 0.6079\n"
     ]
    }
   ],
   "source": [
    "for epoch in range(epochs):\n",
    "    \n",
    "    train_loss = train(model, train_loader, optimizer, criterion, device)\n",
    "    val_acc, f1_w, f1_m = evaluate(model, val_loader, device)\n",
    "\n",
    "    print(f'Epoch {epoch+1} - Train Loss: {train_loss:.4f} | Val Accuracy: {val_acc:.4f} | Weighted F1: {f1_w:.4f} | Macro F1: {f1_m:.4f}')"
   ]
  },
  {
   "cell_type": "code",
   "execution_count": 22,
   "id": "6d232953-343b-4cec-93ba-cc24af135b66",
   "metadata": {},
   "outputs": [],
   "source": [
    "torch.save(model.state_dict(), 'bi_lstm_model.pt')"
   ]
  }
 ],
 "metadata": {
  "kernelspec": {
   "display_name": "Python 3 (ipykernel)",
   "language": "python",
   "name": "python3"
  },
  "language_info": {
   "codemirror_mode": {
    "name": "ipython",
    "version": 3
   },
   "file_extension": ".py",
   "mimetype": "text/x-python",
   "name": "python",
   "nbconvert_exporter": "python",
   "pygments_lexer": "ipython3",
   "version": "3.11.7"
  }
 },
 "nbformat": 4,
 "nbformat_minor": 5
}
