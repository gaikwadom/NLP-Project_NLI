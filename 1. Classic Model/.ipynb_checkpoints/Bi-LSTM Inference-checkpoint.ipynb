{
 "cells": [
  {
   "cell_type": "code",
   "execution_count": 1,
   "id": "c17821a0-9ad9-47d2-bdf7-43b6f48fad87",
   "metadata": {},
   "outputs": [],
   "source": [
    "import torch\n",
    "import torch.nn as nn\n",
    "from transformers import AutoTokenizer"
   ]
  },
  {
   "cell_type": "code",
   "execution_count": 2,
   "id": "9ee2df7a-8fab-4fd3-ac92-c03b9679f10f",
   "metadata": {},
   "outputs": [],
   "source": [
    "device = torch.device('cuda' if torch.cuda.is_available() else 'cpu')"
   ]
  },
  {
   "cell_type": "code",
   "execution_count": 3,
   "id": "364a20f0-fbc5-48d9-8030-53165594962a",
   "metadata": {},
   "outputs": [],
   "source": [
    "model_path = 'bi_lstm_model.pt'\n",
    "label_map = {0: 'entailment', 1: 'neutral', 2: 'contradiction'}"
   ]
  },
  {
   "cell_type": "code",
   "execution_count": 4,
   "id": "fb98d38a-3321-4671-858d-fb991da12416",
   "metadata": {},
   "outputs": [],
   "source": [
    "max_length = 256\n",
    "embed_dim = 300\n",
    "hidden_dim = 512\n",
    "num_classes = 3"
   ]
  },
  {
   "cell_type": "code",
   "execution_count": 5,
   "id": "d54255d9-4e28-4e07-a308-c6edf379d17e",
   "metadata": {},
   "outputs": [],
   "source": [
    "tokenizer = AutoTokenizer.from_pretrained('bert-base-uncased')"
   ]
  },
  {
   "cell_type": "code",
   "execution_count": 6,
   "id": "c944508b-c2e6-404a-ae83-cf61f6a231f5",
   "metadata": {},
   "outputs": [],
   "source": [
    "class LSTM(nn.Module):\n",
    "    def __init__(self, vocab_size, embed_dim, hidden_dim, output_dim):\n",
    "        \n",
    "        super().__init__()\n",
    "        self.embedding = nn.Embedding(vocab_size, embed_dim)\n",
    "        self.lstm = nn.LSTM(embed_dim, hidden_dim, batch_first = True, bidirectional = True)\n",
    "        self.fc = nn.Linear(hidden_dim * 2, output_dim)\n",
    "        self.dropout = nn.Dropout(0.2)\n",
    "\n",
    "    def forward(self, x):\n",
    "        \n",
    "        x = self.embedding(x)\n",
    "        lstm_out, (h_n, c_n) = self.lstm(x)\n",
    "        h_final = torch.cat((h_n[0], h_n[1]), dim = 1)\n",
    "        x = self.dropout(h_final)\n",
    "        \n",
    "        return self.fc(x)"
   ]
  },
  {
   "cell_type": "code",
   "execution_count": 7,
   "id": "b0113f75-c1f4-4e32-8a6c-27030719dc18",
   "metadata": {},
   "outputs": [],
   "source": [
    "model = LSTM(\n",
    "    vocab_size = tokenizer.vocab_size,\n",
    "    embed_dim = embed_dim,\n",
    "    hidden_dim = hidden_dim,\n",
    "    output_dim = num_classes\n",
    ").to(device)"
   ]
  },
  {
   "cell_type": "code",
   "execution_count": 8,
   "id": "a7876e81-a3f6-47f3-9fd7-984aa7bbf21c",
   "metadata": {},
   "outputs": [
    {
     "data": {
      "text/plain": [
       "LSTM(\n",
       "  (embedding): Embedding(30522, 300)\n",
       "  (lstm): LSTM(300, 512, batch_first=True, bidirectional=True)\n",
       "  (fc): Linear(in_features=1024, out_features=3, bias=True)\n",
       "  (dropout): Dropout(p=0.2, inplace=False)\n",
       ")"
      ]
     },
     "execution_count": 8,
     "metadata": {},
     "output_type": "execute_result"
    }
   ],
   "source": [
    "model.load_state_dict(torch.load(model_path, map_location = device, weights_only = False))\n",
    "model.eval()"
   ]
  },
  {
   "cell_type": "code",
   "execution_count": 9,
   "id": "9ecb4008-01f5-47a5-ad73-cb06c3d8456b",
   "metadata": {},
   "outputs": [],
   "source": [
    "def predict(premise, hypothesis):\n",
    "    encoded = tokenizer(\n",
    "        premise,\n",
    "        hypothesis,\n",
    "        padding = 'max_length',\n",
    "        truncation = True,\n",
    "        max_length = max_length,\n",
    "        return_tensors = 'pt'\n",
    "    )\n",
    "    input_ids = encoded['input_ids'].to(device)\n",
    "\n",
    "    with torch.no_grad():\n",
    "        logits = model(input_ids)\n",
    "        pred = torch.argmax(logits, dim = 1).item()\n",
    "\n",
    "    return label_map[pred]"
   ]
  },
  {
   "cell_type": "code",
   "execution_count": 10,
   "id": "9be58298-f879-4f32-adcd-5a0c41eef2de",
   "metadata": {},
   "outputs": [
    {
     "name": "stdin",
     "output_type": "stream",
     "text": [
      "\n",
      "Premise (or type 'exit' to quit):  The woman is drinking coffee at the cafe.\n",
      "Hypothesis :  The woman is consuming a beverage.\n"
     ]
    },
    {
     "name": "stdout",
     "output_type": "stream",
     "text": [
      "Prediction : entailment\n"
     ]
    },
    {
     "name": "stdin",
     "output_type": "stream",
     "text": [
      "\n",
      "Premise (or type 'exit' to quit):  The dog is sleeping on the couch.\n",
      "Hypothesis :  The dog is resting indoors.\n"
     ]
    },
    {
     "name": "stdout",
     "output_type": "stream",
     "text": [
      "Prediction : entailment\n"
     ]
    },
    {
     "name": "stdin",
     "output_type": "stream",
     "text": [
      "\n",
      "Premise (or type 'exit' to quit):  A woman is painting a portrait.\n",
      "Hypothesis :  The portrait was painted by an artist.\n"
     ]
    },
    {
     "name": "stdout",
     "output_type": "stream",
     "text": [
      "Prediction : entailment\n"
     ]
    },
    {
     "name": "stdin",
     "output_type": "stream",
     "text": [
      "\n",
      "Premise (or type 'exit' to quit):  The child is reading a book in the library.\n",
      "Hypothesis :  The child enjoys watching movies at home.\n"
     ]
    },
    {
     "name": "stdout",
     "output_type": "stream",
     "text": [
      "Prediction : neutral\n"
     ]
    },
    {
     "name": "stdin",
     "output_type": "stream",
     "text": [
      "\n",
      "Premise (or type 'exit' to quit):  exit\n"
     ]
    }
   ],
   "source": [
    "while True:\n",
    "    premise = input(\"\\nPremise (or type 'exit' to quit): \")\n",
    "    if premise.lower() == 'exit':\n",
    "        break\n",
    "    hypothesis = input('Hypothesis : ')\n",
    "    result = predict(premise, hypothesis)\n",
    "    print('Prediction :', result)"
   ]
  }
 ],
 "metadata": {
  "kernelspec": {
   "display_name": "Python 3 (ipykernel)",
   "language": "python",
   "name": "python3"
  },
  "language_info": {
   "codemirror_mode": {
    "name": "ipython",
    "version": 3
   },
   "file_extension": ".py",
   "mimetype": "text/x-python",
   "name": "python",
   "nbconvert_exporter": "python",
   "pygments_lexer": "ipython3",
   "version": "3.11.7"
  }
 },
 "nbformat": 4,
 "nbformat_minor": 5
}
